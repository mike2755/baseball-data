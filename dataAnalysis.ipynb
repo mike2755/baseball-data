import pandas as pd
import matplotlib.pyplot as plt
import statsmodels.api as sm
import numpy as np

data = pd.read_excel('baseball-data/Teams.xlsx', sheetname = 'Sheet2')
data1 = pd.read_excel('baseball-data/Teams.xlsx', sheetname = 'Sheet3')
data2 = pd.read_excel('baseball-data/Revenue.xlsx', sheetname = 'Sheet2')

